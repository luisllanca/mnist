{
 "cells": [
  {
   "cell_type": "code",
   "execution_count": 2,
   "metadata": {},
   "outputs": [
    {
     "name": "stdout",
     "output_type": "stream",
     "text": [
      "Train dataset size: 60000 imágenes\n",
      "Test dataset size: 10000 imágenes\n"
     ]
    }
   ],
   "source": [
    "import torch\n",
    "import torchvision\n",
    "import torchvision.transforms as transforms\n",
    "\n",
    "transform = transforms.Compose([\n",
    "    transforms.ToTensor()\n",
    "])\n",
    "\n",
    "train_dataset = torchvision.datasets.MNIST(\n",
    "    root=\"./data\",  \n",
    "    train=True,     \n",
    "    download=False,\n",
    "    transform=transform \n",
    ")\n",
    "\n",
    "test_dataset = torchvision.datasets.MNIST(\n",
    "    root=\"./data\",\n",
    "    train=False,  \n",
    "    download=False,\n",
    "    transform=transform\n",
    ")\n",
    "\n",
    "print(f\"Train dataset size: {len(train_dataset)} imágenes\")\n",
    "print(f\"Test dataset size: {len(test_dataset)} imágenes\")\n"
   ]
  },
  {
   "cell_type": "code",
   "execution_count": 3,
   "metadata": {},
   "outputs": [],
   "source": [
    "import os\n",
    "os.makedirs('dataset',exist_ok=True)"
   ]
  },
  {
   "cell_type": "code",
   "execution_count": 5,
   "metadata": {},
   "outputs": [],
   "source": [
    "from PIL import Image\n",
    "import matplotlib.pyplot as plt\n",
    "to_pil = transforms.ToPILImage()\n",
    "path = os.path.join('dataset','test')\n",
    "os.makedirs(path,exist_ok=True)\n",
    "for tensor,label in test_dataset:\n",
    "    folder_label = os.path.join(path,str(label))\n",
    "    os.makedirs(folder_label,exist_ok=True)\n",
    "    image_pil = to_pil(tensor.squeeze(0))\n",
    "    nums = str(len(os.listdir(folder_label)))\n",
    "    name = str(label) + \".\" + nums + \".jpg\"\n",
    "    image_path = os.path.join(folder_label,name)\n",
    "    image_pil.save(image_path)"
   ]
  },
  {
   "cell_type": "code",
   "execution_count": 6,
   "metadata": {},
   "outputs": [],
   "source": [
    "path = os.path.join('dataset','train')\n",
    "os.makedirs(path,exist_ok=True)\n",
    "for tensor,label in train_dataset:\n",
    "    folder_label = os.path.join(path,str(label))\n",
    "    os.makedirs(folder_label,exist_ok=True)\n",
    "    image_pil = to_pil(tensor.squeeze(0))\n",
    "    nums = str(len(os.listdir(folder_label)))\n",
    "    name = str(label) + \".\" + nums + \".jpg\"\n",
    "    image_path = os.path.join(folder_label,name)\n",
    "    image_pil.save(image_path)"
   ]
  },
  {
   "cell_type": "code",
   "execution_count": 12,
   "metadata": {},
   "outputs": [],
   "source": [
    "import shutil\n",
    "\n",
    "path = os.path.join('dataset','train')\n",
    "path_to = os.path.join('dataset_dvc','train')\n",
    "os.makedirs(path_to,exist_ok=True)\n",
    "for i in os.listdir(path):\n",
    "    folder_label = os.path.join(path,i)\n",
    "    folder_label_to = os.path.join(path_to,i)\n",
    "    os.makedirs(folder_label_to,exist_ok=True)\n",
    "    names = [str(i)+\".\"+str(num)+\".jpg\" for num in range(1000)]\n",
    "    for source_name in names:\n",
    "        source_file = os.path.join(folder_label,source_name)\n",
    "        destination_file = os.path.join(folder_label_to,source_name)\n",
    "        shutil.copy(source_file,destination_file)"
   ]
  },
  {
   "cell_type": "markdown",
   "metadata": {},
   "source": [
    "## Aquí hacer dvc add dataset_dvc para v1.0"
   ]
  },
  {
   "cell_type": "code",
   "execution_count": null,
   "metadata": {},
   "outputs": [],
   "source": [
    "import shutil \n",
    "import os\n",
    "path = os.path.join('dataset','train')\n",
    "path_to = os.path.join('dataset_dvc','train')\n",
    "get_num = lambda name: int(name.split('.')[1])\n",
    "for i in os.listdir(path):\n",
    "    folder_label = os.path.join(path,i)\n",
    "    folder_label_to = os.path.join(path_to,i)\n",
    "    for j in os.listdir(os.path.join(path,i)):\n",
    "        if get_num(j) >= 1000:\n",
    "            source_file = os.path.join(folder_label,j)\n",
    "            destination_file = os.path.join(folder_label_to,j)\n",
    "            shutil.copy(source_file,destination_file)"
   ]
  },
  {
   "cell_type": "code",
   "execution_count": 9,
   "metadata": {},
   "outputs": [
    {
     "name": "stdout",
     "output_type": "stream",
     "text": [
      "torch.Size([10000, 1, 28, 28])\n",
      "torch.Size([10000])\n"
     ]
    }
   ],
   "source": [
    "import torch\n",
    "from torch.utils.data import DataLoader,TensorDataset\n",
    "\n",
    "train_images = torch.load('tensors/train_images.pt')\n",
    "train_labels = torch.load('tensors/train_labels.pt')\n",
    "train_data = TensorDataset(train_images,train_labels)\n",
    "\n",
    "train_loader = DataLoader(train_data,batch_size=32,shuffle=True)\n",
    "print(train_images.shape)\n",
    "print(train_labels.shape)"
   ]
  },
  {
   "cell_type": "code",
   "execution_count": null,
   "metadata": {},
   "outputs": [],
   "source": []
  }
 ],
 "metadata": {
  "kernelspec": {
   "display_name": "dvctest",
   "language": "python",
   "name": "python3"
  },
  "language_info": {
   "codemirror_mode": {
    "name": "ipython",
    "version": 3
   },
   "file_extension": ".py",
   "mimetype": "text/x-python",
   "name": "python",
   "nbconvert_exporter": "python",
   "pygments_lexer": "ipython3",
   "version": "3.13.1"
  }
 },
 "nbformat": 4,
 "nbformat_minor": 2
}
